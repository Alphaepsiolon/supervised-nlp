{
 "cells": [
  {
   "attachments": {},
   "cell_type": "markdown",
   "metadata": {},
   "source": [
    "# Checking out the dataset"
   ]
  },
  {
   "cell_type": "code",
   "execution_count": 9,
   "metadata": {},
   "outputs": [],
   "source": [
    "import cv2 as cv\n",
    "import numpy as np\n",
    "import pandas as pd\n",
    "from sklearn.model_selection import train_test_split\n",
    "\n",
    "atis_intent_train = pd.read_csv('/home/ubuntu/adithya/temp/EAMLA/Natural Language Processing/atis_intents_train.csv', names=['label','text']).sort_values(by='label')\n",
    "atis_intent_test = pd.read_csv('/home/ubuntu/adithya/temp/EAMLA/Natural Language Processing/atis_intents_test.csv', names=['label','text']).sort_values(by='label')"
   ]
  },
  {
   "cell_type": "code",
   "execution_count": 10,
   "metadata": {},
   "outputs": [],
   "source": [
    "atis_intent_train, atis_intent_val = train_test_split(atis_intent_train, test_size = 0.1, random_state = 200)"
   ]
  },
  {
   "cell_type": "code",
   "execution_count": 11,
   "metadata": {},
   "outputs": [],
   "source": [
    "def oversample_data(df):\n",
    "    largest_rep = max(df['label'].value_counts().tolist())\n",
    "    other_entries = df[df['label'] != 'atis_flight']\n",
    "\n",
    "    labels = other_entries['label'].unique().tolist()\n",
    "    for label in labels:\n",
    "        class_entries = df[df['label'] == label]\n",
    "        num = len(class_entries)\n",
    "        scale_factor = largest_rep // num\n",
    "        print(num)\n",
    "        print(scale_factor)\n",
    "        df = df.append([class_entries]*scale_factor)\n",
    "    return df\n",
    "\n",
    "def undersample_data(df):\n",
    "    largest_set = df[df['label'] == 'atis_flight']\n",
    "    other_entries = df[df['label'] != 'atis_flight']\n",
    "    sub = largest_set.sample(n=500,random_state=1)\n",
    "    print(sub)\n",
    "    other_entries = other_entries.append([sub])\n",
    "    return other_entries"
   ]
  },
  {
   "cell_type": "code",
   "execution_count": 6,
   "metadata": {},
   "outputs": [
    {
     "name": "stdout",
     "output_type": "stream",
     "text": [
      "225\n",
      "2\n",
      "47\n",
      "10\n",
      "371\n",
      "1\n",
      "143\n",
      "3\n",
      "51\n",
      "9\n",
      "76\n",
      "6\n",
      "130\n",
      "3\n"
     ]
    },
    {
     "name": "stderr",
     "output_type": "stream",
     "text": [
      "/tmp/ipykernel_1001637/3272206853.py:12: FutureWarning: The frame.append method is deprecated and will be removed from pandas in a future version. Use pandas.concat instead.\n",
      "  df = df.append([class_entries]*scale_factor)\n",
      "/tmp/ipykernel_1001637/3272206853.py:12: FutureWarning: The frame.append method is deprecated and will be removed from pandas in a future version. Use pandas.concat instead.\n",
      "  df = df.append([class_entries]*scale_factor)\n",
      "/tmp/ipykernel_1001637/3272206853.py:12: FutureWarning: The frame.append method is deprecated and will be removed from pandas in a future version. Use pandas.concat instead.\n",
      "  df = df.append([class_entries]*scale_factor)\n",
      "/tmp/ipykernel_1001637/3272206853.py:12: FutureWarning: The frame.append method is deprecated and will be removed from pandas in a future version. Use pandas.concat instead.\n",
      "  df = df.append([class_entries]*scale_factor)\n",
      "/tmp/ipykernel_1001637/3272206853.py:12: FutureWarning: The frame.append method is deprecated and will be removed from pandas in a future version. Use pandas.concat instead.\n",
      "  df = df.append([class_entries]*scale_factor)\n",
      "/tmp/ipykernel_1001637/3272206853.py:12: FutureWarning: The frame.append method is deprecated and will be removed from pandas in a future version. Use pandas.concat instead.\n",
      "  df = df.append([class_entries]*scale_factor)\n",
      "/tmp/ipykernel_1001637/3272206853.py:12: FutureWarning: The frame.append method is deprecated and will be removed from pandas in a future version. Use pandas.concat instead.\n",
      "  df = df.append([class_entries]*scale_factor)\n"
     ]
    }
   ],
   "source": [
    "# other_labels = atis_intent_train[atis_intent_train['label'] != 'atis_flight']\n",
    "# atis_intent_train = atis_intent_train.append([other_labels]*5)\n",
    "atis_intent_train = oversample_data(atis_intent_train)"
   ]
  },
  {
   "cell_type": "code",
   "execution_count": 12,
   "metadata": {},
   "outputs": [
    {
     "data": {
      "text/html": [
       "<div>\n",
       "<style scoped>\n",
       "    .dataframe tbody tr th:only-of-type {\n",
       "        vertical-align: middle;\n",
       "    }\n",
       "\n",
       "    .dataframe tbody tr th {\n",
       "        vertical-align: top;\n",
       "    }\n",
       "\n",
       "    .dataframe thead th {\n",
       "        text-align: right;\n",
       "    }\n",
       "</style>\n",
       "<table border=\"1\" class=\"dataframe\">\n",
       "  <thead>\n",
       "    <tr style=\"text-align: right;\">\n",
       "      <th></th>\n",
       "      <th>label</th>\n",
       "      <th>text</th>\n",
       "    </tr>\n",
       "  </thead>\n",
       "  <tbody>\n",
       "    <tr>\n",
       "      <th>4683</th>\n",
       "      <td>atis_flight</td>\n",
       "      <td>what is the earliest flight from boston to at...</td>\n",
       "    </tr>\n",
       "    <tr>\n",
       "      <th>3111</th>\n",
       "      <td>atis_ground_service</td>\n",
       "      <td>what is the ground transportation from boston...</td>\n",
       "    </tr>\n",
       "    <tr>\n",
       "      <th>3844</th>\n",
       "      <td>atis_flight</td>\n",
       "      <td>give me the flights from boston to san franci...</td>\n",
       "    </tr>\n",
       "    <tr>\n",
       "      <th>1856</th>\n",
       "      <td>atis_quantity</td>\n",
       "      <td>how many of delta's night flights are first c...</td>\n",
       "    </tr>\n",
       "    <tr>\n",
       "      <th>2919</th>\n",
       "      <td>atis_flight</td>\n",
       "      <td>what are your flights from denver to baltimore</td>\n",
       "    </tr>\n",
       "    <tr>\n",
       "      <th>...</th>\n",
       "      <td>...</td>\n",
       "      <td>...</td>\n",
       "    </tr>\n",
       "    <tr>\n",
       "      <th>2662</th>\n",
       "      <td>atis_flight</td>\n",
       "      <td>on monday show me flights from baltimore to d...</td>\n",
       "    </tr>\n",
       "    <tr>\n",
       "      <th>1249</th>\n",
       "      <td>atis_flight</td>\n",
       "      <td>show me flights between new york city and las...</td>\n",
       "    </tr>\n",
       "    <tr>\n",
       "      <th>2092</th>\n",
       "      <td>atis_airline</td>\n",
       "      <td>show me airline abbreviations</td>\n",
       "    </tr>\n",
       "    <tr>\n",
       "      <th>4375</th>\n",
       "      <td>atis_ground_service</td>\n",
       "      <td>what's the ground transportation from oakland...</td>\n",
       "    </tr>\n",
       "    <tr>\n",
       "      <th>4753</th>\n",
       "      <td>atis_flight</td>\n",
       "      <td>what delta flights fly from washington to dal...</td>\n",
       "    </tr>\n",
       "  </tbody>\n",
       "</table>\n",
       "<p>4350 rows × 2 columns</p>\n",
       "</div>"
      ],
      "text/plain": [
       "                    label                                               text\n",
       "4683          atis_flight   what is the earliest flight from boston to at...\n",
       "3111  atis_ground_service   what is the ground transportation from boston...\n",
       "3844          atis_flight   give me the flights from boston to san franci...\n",
       "1856        atis_quantity   how many of delta's night flights are first c...\n",
       "2919          atis_flight     what are your flights from denver to baltimore\n",
       "...                   ...                                                ...\n",
       "2662          atis_flight   on monday show me flights from baltimore to d...\n",
       "1249          atis_flight   show me flights between new york city and las...\n",
       "2092         atis_airline                      show me airline abbreviations\n",
       "4375  atis_ground_service   what's the ground transportation from oakland...\n",
       "4753          atis_flight   what delta flights fly from washington to dal...\n",
       "\n",
       "[4350 rows x 2 columns]"
      ]
     },
     "execution_count": 12,
     "metadata": {},
     "output_type": "execute_result"
    }
   ],
   "source": [
    "atis_intent_train"
   ]
  },
  {
   "cell_type": "code",
   "execution_count": 13,
   "metadata": {},
   "outputs": [],
   "source": [
    "# Checkout distribution per class and plot\n",
    "import seaborn as sns\n",
    "import matplotlib.pyplot as plt\n",
    "def show_dist(df:pd.DataFrame):\n",
    "    sns.displot(df,x=df['label'])\n",
    "    plt.xticks(rotation=90)"
   ]
  },
  {
   "cell_type": "code",
   "execution_count": 14,
   "metadata": {},
   "outputs": [
    {
     "data": {
      "image/png": "[encoded data removed]",
      "text/plain": [
       "<Figure size 500x500 with 1 Axes>"
      ]
     },
     "metadata": {},
     "output_type": "display_data"
    }
   ],
   "source": [
    "show_dist(atis_intent_train)"
   ]
  },
  {
   "cell_type": "code",
   "execution_count": 15,
   "metadata": {},
   "outputs": [
    {
     "data": {
      "image/png": "[encoded data removed]",
      "text/plain": [
       "<Figure size 500x500 with 1 Axes>"
      ]
     },
     "metadata": {},
     "output_type": "display_data"
    }
   ],
   "source": [
    "show_dist(atis_intent_val)"
   ]
  },
  {
   "cell_type": "code",
   "execution_count": 16,
   "metadata": {},
   "outputs": [
    {
     "data": {
      "image/png": "[encoded data removed]",
      "text/plain": [
       "<Figure size 500x500 with 1 Axes>"
      ]
     },
     "metadata": {},
     "output_type": "display_data"
    }
   ],
   "source": [
    "show_dist(atis_intent_test)"
   ]
  },
  {
   "cell_type": "code",
   "execution_count": 17,
   "metadata": {},
   "outputs": [],
   "source": [
    "# convert labels to integers\n",
    "def get_label_mapping(df:pd.DataFrame, mapping_dict: dict):\n",
    "    unique_labels = df['label'].unique().tolist()\n",
    "    label_mapping = mapping_dict\n",
    "\n",
    "    # create labels maps\n",
    "    numeric_list = [*map(label_mapping.get, df['label'].tolist())]\n",
    "    df['num_label'] = numeric_list\n",
    "    return df"
   ]
  },
  {
   "cell_type": "code",
   "execution_count": 18,
   "metadata": {},
   "outputs": [],
   "source": [
    "unique_labels = atis_intent_train['label'].unique().tolist()\n",
    "label_mapping = {x:i for i,x in enumerate(unique_labels)}\n",
    "atis_intent_train = get_label_mapping(atis_intent_train,label_mapping)\n",
    "atis_intent_val = get_label_mapping(atis_intent_val,label_mapping)\n",
    "atis_intent_test = get_label_mapping(atis_intent_test,label_mapping)"
   ]
  },
  {
   "cell_type": "code",
   "execution_count": 24,
   "metadata": {},
   "outputs": [
    {
     "name": "stdout",
     "output_type": "stream",
     "text": [
      "atis_flight_time\n",
      "atis_flight_time\n"
     ]
    }
   ],
   "source": [
    "i = 5\n",
    "print(atis_intent_train[atis_intent_train['num_label'] == i]['label'].tolist()[0])\n",
    "print(atis_intent_test[atis_intent_test['num_label'] == i]['label'].tolist()[0])"
   ]
  },
  {
   "attachments": {},
   "cell_type": "markdown",
   "metadata": {},
   "source": [
    "# Define Dataset Performance Metrics"
   ]
  },
  {
   "cell_type": "code",
   "execution_count": 25,
   "metadata": {},
   "outputs": [
    {
     "name": "stderr",
     "output_type": "stream",
     "text": [
      "/opt/conda/envs/Monolith/lib/python3.10/site-packages/tqdm/auto.py:22: TqdmWarning: IProgress not found. Please update jupyter and ipywidgets. See https://ipywidgets.readthedocs.io/en/stable/user_install.html\n",
      "  from .autonotebook import tqdm as notebook_tqdm\n"
     ]
    }
   ],
   "source": [
    "import torch\n",
    "from transformers import AutoTokenizer\n",
    "\n",
    "class ClassificationDataset(torch.utils.data.Dataset):\n",
    "    def __init__(self, encodings, labels):\n",
    "        self.encodings = encodings\n",
    "        self.labels = labels\n",
    "\n",
    "    def __getitem__(self, idx):\n",
    "        item = {key: torch.tensor(val[idx]) for key, val in self.encodings.items()}\n",
    "        item['label'] = self.labels[idx]\n",
    "        return item\n",
    "\n",
    "    def __len__(self):\n",
    "        return len(self.labels)\n",
    "\n",
    "# class ClassificationDataset(torch.utils.data.Dataset):\n",
    "#     def __init__(self,\n",
    "#                  csv_path:str,\n",
    "#                  mode:str='train',\n",
    "#                  model_id:str = 'albert-base-v2'):\n",
    "#         self.mode = mode\n",
    "#         self.df = pd.read_csv(csv_path, names=['label','text'])\n",
    "#         self.model_id = model_id\n",
    "#         # preprocess df to include numeric labels\n",
    "#         self.get_label_mapping()\n",
    "#         self.text,self.labels = self.preprocess()\n",
    "\n",
    "#         # obtain labels and encodings\n",
    "#         self.tokenizer = AutoTokenizer.from_pretrained('albert-base-v2')\n",
    "#         self.encodings = self.tokenize()\n",
    "    \n",
    "\n",
    "#     def tokenize(self):\n",
    "#         train_text_encoded = self.tokenizer(self.text,padding=True,truncation=True, return_tensors='pt')\n",
    "#         return train_text_encoded\n",
    "    \n",
    "#     def get_label_mapping(self) -> None:\n",
    "#         unique_labels = self.df['label'].unique().tolist()\n",
    "#         label_mapping = {x:i for i,x in enumerate(unique_labels)}\n",
    "\n",
    "#         # create labels maps\n",
    "#         numeric_list = [*map(label_mapping.get, self.df['label'].tolist())]\n",
    "#         self.df['num_label'] = numeric_list\n",
    "\n",
    "#     def preprocess(self) -> None:\n",
    "#         self.unique_labels = self.df['num_label'].unique().tolist()\n",
    "#         text = self.df['text'].tolist()\n",
    "#         labels = self.df['num_label'].tolist()\n",
    "#         return text, labels\n",
    "    \n",
    "#     def __len__(self):\n",
    "#         return len(self.labels)\n",
    "    \n",
    "#     def __getitem__(self,idx) -> dict:\n",
    "#         item = {key: torch.tensor(val[idx]) for key, val in self.encodings.items()}\n",
    "#         item['label'] = self.labels[idx]\n",
    "#         return item\n",
    "    \n",
    "#     @property\n",
    "#     def get_unique_labels(self):\n",
    "#         return self.unique_labels"
   ]
  },
  {
   "cell_type": "code",
   "execution_count": 26,
   "metadata": {},
   "outputs": [],
   "source": [
    "from sklearn.metrics import accuracy_score, f1_score\n",
    "\n",
    "def compute_metrics(pred):\n",
    "    \"\"\"\n",
    "    Dict containing the metrics to evaluate trained model\n",
    "    on. Template and usage obtained from: https://huggingface.co/docs/transformers/training\n",
    "    \"\"\"\n",
    "    labels = pred.label_ids\n",
    "    preds = pred.predictions.argmax(-1)\n",
    "    acc = accuracy_score(labels, preds)\n",
    "    f1_score_micro = f1_score(labels, preds, average='micro')\n",
    "    f1_score_macro = f1_score(labels, preds, average='macro')\n",
    "    return {\n",
    "        'accuracy': acc,\n",
    "        'f1_score_micro': f1_score_micro,\n",
    "        'f1_score_macro': f1_score_macro\n",
    "    }"
   ]
  },
  {
   "cell_type": "code",
   "execution_count": 27,
   "metadata": {},
   "outputs": [],
   "source": [
    "label_names = atis_intent_train['num_label'].unique().tolist()\n",
    "\n",
    "# texts\n",
    "train_texts = atis_intent_train['text'].tolist()\n",
    "dev_texts = atis_intent_val['text'].tolist()\n",
    "test_texts = atis_intent_test['text'].tolist()\n",
    "\n",
    "# labels\n",
    "train_labels = atis_intent_train['num_label'].tolist()\n",
    "dev_labels = atis_intent_val['num_label'].tolist()\n",
    "test_labels = atis_intent_test['num_label'].tolist()"
   ]
  },
  {
   "attachments": {},
   "cell_type": "markdown",
   "metadata": {},
   "source": [
    "# Load Pretrained Model\n",
    "For the puposes of this question, I will be using the library `transformers`. It offers multiple pre-trained models which are useful for transfer learning and it integrates well with PyTorch modules.\n",
    "Reference Link: https://github.com/huggingface/transformers\n",
    "\n",
    "The finetuning process is similar to the setup reccomended in the documentation: https://huggingface.co/docs/transformers/training"
   ]
  },
  {
   "cell_type": "code",
   "execution_count": null,
   "metadata": {},
   "outputs": [],
   "source": [
    "from transformers import AutoTokenizer, AutoModelForSequenceClassification, Trainer, TrainingArguments\n",
    "tokenizer = AutoTokenizer.from_pretrained('albert-base-v2')\n",
    "model = AutoModelForSequenceClassification.from_pretrained('albert-base-v2',num_labels = len(label_names))\n",
    "\n",
    "# load train and test datasets\n",
    "train_dataset = ClassificationDataset('/home/ubuntu/adithya/temp/EAMLA/Natural Language Processing/atis_intents_train.csv')\n",
    "val_dataset = ClassificationDataset('/home/ubuntu/adithya/temp/EAMLA/Natural Language Processing/atis_intents_test.csv')\n",
    "\n",
    "# define training hyperparameters and trainer\n",
    "training_args = TrainingArguments(\n",
    "        output_dir='./results',\n",
    "        num_train_epochs=3,\n",
    "        per_device_train_batch_size=16,\n",
    "        per_device_eval_batch_size=64,\n",
    "        warmup_steps=int(len(train_dataset)/16),\n",
    "        weight_decay=0.01,\n",
    "        logging_dir='./logs',\n",
    "        evaluation_strategy=\"steps\",\n",
    "        eval_steps=50,\n",
    "        save_steps=50,\n",
    "        save_total_limit=10,\n",
    "        load_best_model_at_end=True,\n",
    "        no_cuda=False\n",
    "    )\n",
    "\n",
    "# define trainer\n",
    "trainer = Trainer(\n",
    "        model=model,\n",
    "        args=training_args,\n",
    "        compute_metrics=compute_metrics,\n",
    "        train_dataset=train_dataset,\n",
    "        eval_dataset=train_dataset,\n",
    "    )\n",
    "trainer.train()\n",
    "test_results = trainer.evaluate(val_dataset)\n",
    "    \n",
    "print(f\"Final test accuracy:{test_results['eval_accuracy']}\")"
   ]
  },
  {
   "cell_type": "code",
   "execution_count": 29,
   "metadata": {},
   "outputs": [
    {
     "data": {
      "text/html": [
       "\n",
       "    <div>\n",
       "      \n",
       "      <progress value='13' max='13' style='width:300px; height:20px; vertical-align: middle;'></progress>\n",
       "      [13/13 00:01]\n",
       "    </div>\n",
       "    "
      ],
      "text/plain": [
       "<IPython.core.display.HTML object>"
      ]
     },
     "metadata": {},
     "output_type": "display_data"
    }
   ],
   "source": [
    "from transformers import AutoTokenizer, Trainer, TrainingArguments, AutoModelForSequenceClassification\n",
    "\n",
    "# model_ids = [\"prajjwal1/bert-tiny\", \"prajjwal1/bert-mini\", \n",
    "#              \"prajjwal1/bert-small\", \"prajjwal1/bert-medium\",\n",
    "#              \"albert-base-v2\", \"albert-large-v2\", \"bert-base-uncased\"]\n",
    "model_ids = [\"albert-base-v2\"]\n",
    "\n",
    "accuracies = []\n",
    "for model_id in model_ids:\n",
    "    \n",
    "    print(f\"*** {model_id} ***\")\n",
    "\n",
    "    tokenizer = AutoTokenizer.from_pretrained(model_id)\n",
    "    model = AutoModelForSequenceClassification.from_pretrained(model_id, num_labels=len(label_names))\n",
    "\n",
    "    train_texts_encoded = tokenizer(train_texts,padding=True, truncation=True)\n",
    "    dev_texts_encoded = tokenizer(dev_texts,padding=True, truncation=True)\n",
    "    test_texts_encoded = tokenizer(test_texts,padding=True, truncation=True)\n",
    "    \n",
    "    train_dataset = ClassificationDataset(train_texts_encoded, train_labels)\n",
    "    dev_dataset = ClassificationDataset(dev_texts_encoded, dev_labels)\n",
    "    test_dataset = ClassificationDataset(test_texts_encoded, test_labels)\n",
    "    \n",
    "    training_args = TrainingArguments(\n",
    "        output_dir='./results',\n",
    "        num_train_epochs=3,\n",
    "        per_device_train_batch_size=16,\n",
    "        per_device_eval_batch_size=64,\n",
    "        warmup_steps=int(len(train_dataset)/16),\n",
    "        weight_decay=0.01,\n",
    "        logging_dir='./logs',\n",
    "        evaluation_strategy=\"steps\",\n",
    "        eval_steps=50,\n",
    "        save_steps=50,\n",
    "        save_total_limit=10,\n",
    "        load_best_model_at_end=True,\n",
    "        no_cuda=False\n",
    "    )\n",
    "\n",
    "    trainer = Trainer(\n",
    "        model=model,\n",
    "        args=training_args,\n",
    "        compute_metrics=compute_metrics,\n",
    "        train_dataset=train_dataset,\n",
    "        eval_dataset=dev_dataset,\n",
    "    )\n",
    "\n",
    "    trainer.train()\n",
    "    test_results = trainer.evaluate(test_dataset)\n",
    "    \n",
    "    accuracies.append(test_results[\"eval_accuracy\"])"
   ]
  },
  {
   "cell_type": "code",
   "execution_count": 30,
   "metadata": {},
   "outputs": [
    {
     "data": {
      "text/plain": [
       "[0.9925]"
      ]
     },
     "execution_count": 30,
     "metadata": {},
     "output_type": "execute_result"
    }
   ],
   "source": [
    "accuracies"
   ]
  },
  {
   "cell_type": "code",
   "execution_count": null,
   "metadata": {},
   "outputs": [],
   "source": []
  }
 ],
 "metadata": {
  "kernelspec": {
   "display_name": "Monolith",
   "language": "python",
   "name": "python3"
  },
  "language_info": {
   "codemirror_mode": {
    "name": "ipython",
    "version": 3
   },
   "file_extension": ".py",
   "mimetype": "text/x-python",
   "name": "python",
   "nbconvert_exporter": "python",
   "pygments_lexer": "ipython3",
   "version": "3.10.8"
  },
  "orig_nbformat": 4,
  "vscode": {
   "interpreter": {
    "hash": "ca848f7e430d30e66a7b2b0b62b6adda9adc1512b690f018ee051facf6a38a75"
   }
  }
 },
 "nbformat": 4,
 "nbformat_minor": 2
}
